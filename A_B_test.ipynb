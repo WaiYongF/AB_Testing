{
  "nbformat": 4,
  "nbformat_minor": 0,
  "metadata": {
    "colab": {
      "provenance": [],
      "authorship_tag": "ABX9TyMoqtHDYr265lHpTMmA8sq+",
      "include_colab_link": true
    },
    "kernelspec": {
      "name": "python3",
      "display_name": "Python 3"
    },
    "language_info": {
      "name": "python"
    }
  },
  "cells": [
    {
      "cell_type": "markdown",
      "metadata": {
        "id": "view-in-github",
        "colab_type": "text"
      },
      "source": [
        "<a href=\"https://colab.research.google.com/github/WaiYongF/AB_Testing/blob/main/A_B_test.ipynb\" target=\"_parent\"><img src=\"https://colab.research.google.com/assets/colab-badge.svg\" alt=\"Open In Colab\"/></a>"
      ]
    },
    {
      "cell_type": "markdown",
      "source": [
        "# What is A/B test ?\n",
        "\n",
        "A/B test is an experiment to compare the two versions of a variable to find out which performs better in a controlled environment.\n",
        "\n",
        "![A/B Test Diagram](https://cdn.analyticsvidhya.com/wp-content/uploads/2020/09/ab_test.png)\n",
        "\n",
        "\n",
        "It is a **hypothetical testing** methodology for making decisions that estimate population parameters based on sample statistics. The **population** refers to all the customers buying your product, while the **sample** refers to the number of customers that participated in the test."
      ],
      "metadata": {
        "id": "QXcOym2NyB-j"
      }
    },
    {
      "cell_type": "markdown",
      "source": [
        "# How does A/B test works ?\n",
        "\n",
        "1. Define Objective\n",
        "\n",
        "- Objective: check which newsletter brings higher traffic on the website\n",
        "- Translate into quantifiable variable: i.e the conversion rate\n",
        "\n",
        "2. Make a Hypothesis\n",
        "\n",
        "- `Null hypothesis` and the `alternative hypothesis`\n",
        "- Alternative hypothesis, Ha, is what you might hope that your A/B test will prove to be true\n",
        "\n",
        "i.e. Alternative hypothesis: the conversion rate of newsletter B is higher than those who receive newsletter A\n",
        "\n",
        "3. Create Control Group and Test Group\n",
        "\n",
        "- The `Control group`: the one that will receive newsletter A\n",
        "- The `Test (variant) group`: the one that will receive newsletter B\n",
        "- Steps:\n",
        "\n",
        "  a. `Random sampling`: randomly selecting the sample from the population, `to eliminate bias`\n",
        "\n",
        "  b. `Determine sample size`: determine the minimum sample size for our A/B test before conducting it so that we can `eliminate under coverage bias`\n",
        "\n",
        "4. Conduct the A/B Test and Collect the Data\n"
      ],
      "metadata": {
        "id": "X8Nencm_0ZiI"
      }
    },
    {
      "cell_type": "markdown",
      "source": [
        "## Various stages of A/B testing:\n",
        "- Designing the Test:\n",
        "  - formulate a clear hypothesis and define the metric for success.\n",
        "  - determine the sample size needed for statistical significance.\n",
        "- Building the Experiment:\n",
        "  - may develop tools to randomly assign users to groups and ensure proper delivery of variations.\n",
        "- Data Analysis:\n",
        "  - employ statistical methods to analyze the collected data and assess the validity of the results. This involves techniques like hypothesis testing and p-value calculations to determine if the observed difference is due to chance or a genuine effect of the variation.\n",
        "- Interpretation and Recommendation:\n",
        "  - interpret the results by considering statistical significance and effect size.\n",
        "  - recommend keeping the winning variation, refining the test, or concluding the experiment."
      ],
      "metadata": {
        "id": "Luj44Fk3r5V2"
      }
    },
    {
      "cell_type": "markdown",
      "source": [
        "## Statistical significance of the Test\n",
        "\n",
        "### Main question: Can we conclude from here that the Test group is working better than the control group?\n",
        "\n",
        "For rejecting our null hypothesis we have to prove the Statistical significance of our test.\n",
        "\n",
        "Two types of error may occur in hypothesis testing:\n",
        "1. ***Type I error***: We reject the null hypothesis when it is true. That is we accept the variant B when it is not performing better than A\n",
        "2. ***Type II error***: We failed to reject the null hypothesis when it is false. It means we conclude variant B is not good when it performs better than A\n",
        "\n",
        "To avoid these errors we must calculate the statistical significance of our test.\n",
        "\n",
        "`An experiment is considered to be statistically significant when we have enough evidence to prove that the result we see in the sample also exists in the population.`\n",
        "\n",
        "`The two–sample t–test is one of the most commonly used hypothesis tests.`\n",
        "\n",
        "![Probability & Statistical Significance Explained](https://cdn.analyticsvidhya.com/wp-content/uploads/2020/09/p-value.png)\n",
        "\n",
        "There are a few terms in A/B Test:\n",
        "\n",
        "1. `Significance level (alpha)`: The significance level, also denoted as alpha or α, is the probability of rejecting the null hypothesis when it is true. `Generally, we use the significance value of 0.05`\n",
        "\n",
        "2. `P-Value`: It is the probability that the difference between the two values is just because of random chance. P-value is evidence against the null hypothesis. `The smaller the p-value stronger the chances to reject the H0.` For the significance level of 0.05, `if the p-value is lesser than it hence we can reject the null hypothesis`\n",
        "\n",
        "3. `Confidence interval`: The confidence interval is an observed range in which a given percentage of test outcomes fall. We manually select our desired confidence level at the beginning of our test. `Generally, we take a 95% confidence interval`\n",
        "\n",
        "### ***T-Statistic Formula***\n",
        "\n",
        "![T-Statistic](https://cdn.analyticsvidhya.com/wp-content/uploads/2020/09/test_sta.png)"
      ],
      "metadata": {
        "id": "q00la6E1s3wP"
      }
    },
    {
      "cell_type": "markdown",
      "source": [],
      "metadata": {
        "id": "AFRZRzTHwSLF"
      }
    },
    {
      "cell_type": "code",
      "execution_count": null,
      "metadata": {
        "id": "vX3pYiZ5xgZp",
        "colab": {
          "base_uri": "https://localhost:8080/",
          "height": 759
        },
        "outputId": "6fcac63f-a7f1-4d59-d896-4ae3934296fe"
      },
      "outputs": [
        {
          "output_type": "stream",
          "name": "stdout",
          "text": [
            "   Day   Conversion_A  Conversion_B\n",
            "0     1          0.15          0.19\n",
            "1     2          0.12          0.20\n",
            "2     3          0.18          0.18\n",
            "3     4          0.19          0.22\n",
            "4     5          0.17          0.19\n"
          ]
        },
        {
          "output_type": "stream",
          "name": "stderr",
          "text": [
            "/tmp/ipython-input-1-3442847908.py:11: UserWarning: \n",
            "\n",
            "`distplot` is a deprecated function and will be removed in seaborn v0.14.0.\n",
            "\n",
            "Please adapt your code to use either `displot` (a figure-level function with\n",
            "similar flexibility) or `histplot` (an axes-level function for histograms).\n",
            "\n",
            "For a guide to updating your code to use the new functions, please see\n",
            "https://gist.github.com/mwaskom/de44147ed2974457ad6372750bbe5751\n",
            "\n",
            "  sns.distplot(data.Conversion_A)\n"
          ]
        },
        {
          "output_type": "display_data",
          "data": {
            "text/plain": [
              "<Figure size 640x480 with 1 Axes>"
            ],
            "image/png": "[encoded data removed]"
          },
          "metadata": {}
        }
      ],
      "source": [
        "import pandas as pd\n",
        "import numpy as np\n",
        "import seaborn as sns\n",
        "import scipy.stats as ss\n",
        "import matplotlib.pyplot as plt\n",
        "data= pd.read_csv(\"https://raw.githubusercontent.com/WaiYongF/AB_Testing/refs/heads/main/data.csv\")\n",
        "print(data.head())\n",
        "\n",
        "# Let’s plot the distribution of target and control group:\n",
        "\n",
        "sns.distplot(data.Conversion_A)\n",
        "plt.show()"
      ]
    },
    {
      "cell_type": "code",
      "source": [
        "t_stat, p_val= ss.ttest_ind(data.Conversion_B,data.Conversion_A)\n",
        "t_stat , p_val"
      ],
      "metadata": {
        "colab": {
          "base_uri": "https://localhost:8080/"
        },
        "id": "VHtN04pdzmI2",
        "outputId": "c073e9e5-324b-4da5-bd2a-76f50d3f2d4d"
      },
      "execution_count": null,
      "outputs": [
        {
          "output_type": "execute_result",
          "data": {
            "text/plain": [
              "(np.float64(3.787367930919289), np.float64(0.00036379601282876257))"
            ]
          },
          "metadata": {},
          "execution_count": 2
        }
      ]
    },
    {
      "cell_type": "markdown",
      "source": [
        "For our example, the observed value i.e the mean of the test group is 0.19. The hypothesized value (Mean of the control group) is 0.16. On the calculation of the t-score, we get the t-score as .3787. and the p-value is 0.00036.\n",
        "\n",
        "Here, our p-value is lesser than the significance level i.e 0.05. Hence, we can reject the null hypothesis. This means that in our A/B testing, newsletter B is performing better than newsletter A. So our recommendation would be to replace our current newsletter with B to bring more traffic on our website."
      ],
      "metadata": {
        "id": "FkLlHQ3h0FrK"
      }
    }
  ]
}